{
 "cells": [
  {
   "cell_type": "code",
   "execution_count": 1,
   "metadata": {},
   "outputs": [],
   "source": [
    "import gym\n",
    "import torch, numpy as np\n",
    "from torch import nn\n",
    "import tianshou as ts\n",
    "from agents import TwoAgentPolicy"
   ]
  },
  {
   "cell_type": "code",
   "execution_count": 2,
   "metadata": {},
   "outputs": [],
   "source": [
    "# https://github.com/thu-ml/tianshou/issues/192 to enable rendering wrapper\n",
    "def make_env():\n",
    "    return gym.wrappers.FlattenObservation(gym.make('gym_env:penalty-shot-v0'))"
   ]
  },
  {
   "cell_type": "code",
   "execution_count": 3,
   "metadata": {},
   "outputs": [],
   "source": [
    "class testPolicy(ts.policy.BasePolicy):\n",
    "    def forward(self, batch, state, **kwargs):\n",
    "        # print(\"forward\")\n",
    "        # print(batch)\n",
    "        return ts.data.Batch(act=np.zeros((len(batch),1)), state={\"h\": 1})\n",
    "    \n",
    "    def learn(self, batch, **kwargs):\n",
    "        # print('learn')\n",
    "        # print(batch)\n",
    "        return {}"
   ]
  },
  {
   "cell_type": "code",
   "execution_count": 4,
   "metadata": {},
   "outputs": [
    {
     "name": "stderr",
     "output_type": "stream",
     "text": [
      "/home/devanshu/.local/lib/python3.9/site-packages/gym/logger.py:34: UserWarning: \u001b[33mWARN: Box bound precision lowered by casting to float32\u001b[0m\n",
      "  warnings.warn(colorize(\"%s: %s\" % (\"WARN\", msg % args), \"yellow\"))\n"
     ]
    }
   ],
   "source": [
    "# create environment\n",
    "\n",
    "env = make_env()\n",
    "train_envs = ts.env.DummyVectorEnv([make_env for _ in range(3)])\n",
    "test_envs = ts.env.DummyVectorEnv([make_env for _ in range(13)])"
   ]
  },
  {
   "cell_type": "code",
   "execution_count": 5,
   "metadata": {},
   "outputs": [],
   "source": [
    "# setup network\n",
    "\n",
    "class Net(nn.Module):\n",
    "    def __init__(self, state_shape, action_shape):\n",
    "        super().__init__()\n",
    "        self.model = nn.Sequential(\n",
    "            nn.Linear(np.prod(state_shape), 128), nn.ReLU(inplace=True),\n",
    "            nn.Linear(128, 128), nn.ReLU(inplace=True),\n",
    "            nn.Linear(128, 128), nn.ReLU(inplace=True),\n",
    "            nn.Linear(128, np.prod(action_shape)),\n",
    "        )\n",
    "\n",
    "    def forward(self, obs, state=None, info={}):\n",
    "        if not isinstance(obs, torch.Tensor):\n",
    "            obs = torch.tensor(obs, dtype=torch.float)\n",
    "        batch = obs.shape[0]\n",
    "        # print(\"obs\", obs)\n",
    "        # print(\"view\", obs.view(batch, -1))\n",
    "        logits = self.model(obs.view(batch, -1))\n",
    "        return logits, state"
   ]
  },
  {
   "cell_type": "code",
   "execution_count": 6,
   "metadata": {},
   "outputs": [],
   "source": [
    "state_shape = env.observation_space.shape or env.observation_space.n\n",
    "action_shape = env.action_space.shape or env.action_space.n"
   ]
  },
  {
   "cell_type": "code",
   "execution_count": 7,
   "metadata": {},
   "outputs": [],
   "source": [
    "net1 = Net(state_shape, action_shape)\n",
    "net2 = Net(state_shape, action_shape)"
   ]
  },
  {
   "cell_type": "code",
   "execution_count": 8,
   "metadata": {},
   "outputs": [],
   "source": [
    "optim1 = torch.optim.Adam(net1.parameters(), lr=1e-3)\n",
    "optim2 = torch.optim.Adam(net2.parameters(), lr=1e-3)"
   ]
  },
  {
   "cell_type": "code",
   "execution_count": 9,
   "metadata": {},
   "outputs": [],
   "source": [
    "p1 = ts.policy.DQNPolicy(net1, optim1, discount_factor=0.9, estimation_step=3, target_update_freq=320)\n",
    "p2 = ts.policy.DQNPolicy(net2, optim2, discount_factor=0.9, estimation_step=3, target_update_freq=320)\n",
    "policy = TwoAgentPolicy(observation_space=env.observation_space, action_space=env.action_space, policies=(p1, p2))"
   ]
  },
  {
   "cell_type": "code",
   "execution_count": 10,
   "metadata": {},
   "outputs": [],
   "source": [
    "# setup collector\n",
    "\n",
    "train_collector = ts.data.Collector(policy, train_envs, ts.data.VectorReplayBuffer(20000, 10), exploration_noise=True)\n",
    "test_collector = ts.data.Collector(policy, test_envs, exploration_noise=True)"
   ]
  },
  {
   "cell_type": "code",
   "execution_count": 11,
   "metadata": {},
   "outputs": [
    {
     "name": "stderr",
     "output_type": "stream",
     "text": [
      "Epoch #1:   0%|          | 0/10000 [00:00<?, ?it/s]/home/devanshu/.local/lib/python3.9/site-packages/tianshou/data/collector.py:183: UserWarning: n_step=10 is not a multiple of #env (3), which may cause extra transitions collected into the buffer.\n",
      "  warnings.warn(\n",
      "Epoch #1: 10008it [00:09, 1077.97it/s, env_step=10008, len=0, loss=0.012, n/ep=0, n/st=12, rew=0.00]\n"
     ]
    },
    {
     "name": "stdout",
     "output_type": "stream",
     "text": [
      "Epoch #1: test_reward: 1.000000 ± 0.000000, best_reward: 1.000000 ± 0.000000 in #0\n"
     ]
    },
    {
     "name": "stderr",
     "output_type": "stream",
     "text": [
      "Epoch #2: 10008it [00:09, 1067.96it/s, env_step=20016, len=0, loss=0.010, n/ep=0, n/st=12, rew=0.00]\n"
     ]
    },
    {
     "name": "stdout",
     "output_type": "stream",
     "text": [
      "Epoch #2: test_reward: 1.000000 ± 0.000000, best_reward: 1.000000 ± 0.000000 in #0\n"
     ]
    },
    {
     "name": "stderr",
     "output_type": "stream",
     "text": [
      "Epoch #3: 10008it [00:09, 1061.58it/s, env_step=30024, len=0, loss=0.004, n/ep=0, n/st=12, rew=0.00]\n"
     ]
    },
    {
     "name": "stdout",
     "output_type": "stream",
     "text": [
      "Epoch #3: test_reward: 1.000000 ± 0.000000, best_reward: 1.000000 ± 0.000000 in #0\n"
     ]
    },
    {
     "name": "stderr",
     "output_type": "stream",
     "text": [
      "Epoch #4: 10008it [00:09, 1048.38it/s, env_step=40032, len=0, loss=0.000, n/ep=0, n/st=12, rew=0.00]\n"
     ]
    },
    {
     "name": "stdout",
     "output_type": "stream",
     "text": [
      "Epoch #4: test_reward: 1.000000 ± 0.000000, best_reward: 1.000000 ± 0.000000 in #0\n"
     ]
    },
    {
     "name": "stderr",
     "output_type": "stream",
     "text": [
      "Epoch #5: 10008it [00:09, 1037.11it/s, env_step=50040, len=0, loss=0.001, n/ep=0, n/st=12, rew=0.00]\n"
     ]
    },
    {
     "name": "stdout",
     "output_type": "stream",
     "text": [
      "Epoch #5: test_reward: 1.000000 ± 0.000000, best_reward: 1.000000 ± 0.000000 in #0\n"
     ]
    },
    {
     "name": "stderr",
     "output_type": "stream",
     "text": [
      "Epoch #6: 10008it [00:09, 1041.17it/s, env_step=60048, len=0, loss=0.001, n/ep=0, n/st=12, rew=0.00]\n"
     ]
    },
    {
     "name": "stdout",
     "output_type": "stream",
     "text": [
      "Epoch #6: test_reward: 1.000000 ± 0.000000, best_reward: 1.000000 ± 0.000000 in #0\n"
     ]
    },
    {
     "name": "stderr",
     "output_type": "stream",
     "text": [
      "Epoch #7: 10008it [00:09, 1024.51it/s, env_step=70056, len=0, loss=0.000, n/ep=0, n/st=12, rew=0.00]\n"
     ]
    },
    {
     "name": "stdout",
     "output_type": "stream",
     "text": [
      "Epoch #7: test_reward: 1.000000 ± 0.000000, best_reward: 1.000000 ± 0.000000 in #0\n"
     ]
    },
    {
     "name": "stderr",
     "output_type": "stream",
     "text": [
      "Epoch #8: 10008it [00:09, 1043.23it/s, env_step=80064, len=0, loss=0.003, n/ep=0, n/st=12, rew=0.00]\n"
     ]
    },
    {
     "name": "stdout",
     "output_type": "stream",
     "text": [
      "Epoch #8: test_reward: 1.000000 ± 0.000000, best_reward: 1.000000 ± 0.000000 in #0\n"
     ]
    },
    {
     "name": "stderr",
     "output_type": "stream",
     "text": [
      "Epoch #9: 10008it [00:09, 1058.68it/s, env_step=90072, len=0, loss=0.000, n/ep=0, n/st=12, rew=0.00]\n"
     ]
    },
    {
     "name": "stdout",
     "output_type": "stream",
     "text": [
      "Epoch #9: test_reward: 1.000000 ± 0.000000, best_reward: 1.000000 ± 0.000000 in #0\n"
     ]
    },
    {
     "name": "stderr",
     "output_type": "stream",
     "text": [
      "Epoch #10: 10008it [00:09, 1035.17it/s, env_step=100080, len=0, loss=0.000, n/ep=0, n/st=12, rew=0.00]\n"
     ]
    },
    {
     "name": "stdout",
     "output_type": "stream",
     "text": [
      "Epoch #10: test_reward: 1.000000 ± 0.000000, best_reward: 1.000000 ± 0.000000 in #0\n",
      "Finished training! Use {'test_step': 99000, 'test_episode': 1100, 'test_time': '10.67s', 'test_speed': '9278.36 step/s', 'best_reward': 1.0, 'best_result': '1.00 ± 0.00', 'duration': '106.08s', 'train_time/model': '58.24s', 'train_step': 100080, 'train_episode': 1113, 'train_time/collector': '37.17s', 'train_speed': '1048.96 step/s'}\n"
     ]
    }
   ],
   "source": [
    "# training\n",
    "\n",
    "result = ts.trainer.offpolicy_trainer(\n",
    "    policy, train_collector, test_collector,\n",
    "    max_epoch=10, step_per_epoch=10000, step_per_collect=10,\n",
    "    update_per_step=0.1, episode_per_test=100, batch_size=64)\n",
    "print(f'Finished training! Use {result}')"
   ]
  }
 ],
 "metadata": {
  "interpreter": {
   "hash": "f9f85f796d01129d0dd105a088854619f454435301f6ffec2fea96ecbd9be4ac"
  },
  "kernelspec": {
   "display_name": "Python 3.9.7 64-bit",
   "name": "python3"
  },
  "language_info": {
   "codemirror_mode": {
    "name": "ipython",
    "version": 3
   },
   "file_extension": ".py",
   "mimetype": "text/x-python",
   "name": "python",
   "nbconvert_exporter": "python",
   "pygments_lexer": "ipython3",
   "version": "3.9.7"
  },
  "orig_nbformat": 4
 },
 "nbformat": 4,
 "nbformat_minor": 2
}
